{
 "cells": [
  {
   "cell_type": "markdown",
   "id": "4c88aa6b",
   "metadata": {},
   "source": [
    "# Import Libraries and CSV Files"
   ]
  },
  {
   "cell_type": "code",
   "execution_count": 1,
   "id": "d490b4f8",
   "metadata": {},
   "outputs": [],
   "source": [
    "import pandas as pd\n",
    "import numpy as np\n",
    "df1 = pd.read_csv(\"selectfoodbalances2021.csv\")\n",
    "df2 = pd.read_csv(\"gdp2021.csv\")\n",
    "df3 = pd.read_csv(\"annualpopulation2021.csv\")\n",
    "df4 = pd.read_csv('proteinsupply2021.csv')"
   ]
  },
  {
   "cell_type": "markdown",
   "id": "b249f2e6",
   "metadata": {},
   "source": [
    "# Calculate Population percentage change 2020-21"
   ]
  },
  {
   "cell_type": "code",
   "execution_count": 2,
   "id": "649343a1",
   "metadata": {
    "scrolled": true
   },
   "outputs": [],
   "source": [
    "pop = df3.drop(columns=[\"Domain\",\"Domain Code\",\"Area Code (M49)\",\"Element Code\",\"Element\",\"Item Code (FBS)\",\"Year Code\",\"Flag\",\"Flag Description\"]).rename(columns={\"Value\":\"Population\",\"Area\":\"Country\"})"
   ]
  },
  {
   "cell_type": "code",
   "execution_count": 3,
   "id": "2bbb8e54",
   "metadata": {
    "scrolled": true
   },
   "outputs": [
    {
     "name": "stdout",
     "output_type": "stream",
     "text": [
      "<class 'pandas.core.frame.DataFrame'>\n",
      "RangeIndex: 370 entries, 0 to 369\n",
      "Data columns (total 5 columns):\n",
      " #   Column      Non-Null Count  Dtype  \n",
      "---  ------      --------------  -----  \n",
      " 0   Country     370 non-null    object \n",
      " 1   Item        370 non-null    object \n",
      " 2   Year        370 non-null    int64  \n",
      " 3   Unit        370 non-null    object \n",
      " 4   Population  370 non-null    float64\n",
      "dtypes: float64(1), int64(1), object(3)\n",
      "memory usage: 14.6+ KB\n"
     ]
    }
   ],
   "source": [
    "pop.info()"
   ]
  },
  {
   "cell_type": "code",
   "execution_count": 4,
   "id": "a0937cb8",
   "metadata": {},
   "outputs": [],
   "source": [
    "pop2020 = pop.groupby(by=\"Year\").get_group(2020).Population.values\n",
    "pop2021 = pop.groupby(by=\"Year\").get_group(2021).Population.values"
   ]
  },
  {
   "cell_type": "code",
   "execution_count": 5,
   "id": "f1c9b3dc",
   "metadata": {},
   "outputs": [],
   "source": [
    "deltapop2021=pop.groupby(by=\"Year\").get_group(2021).drop(columns=[\"Population\",\"Item\",\"Year\",\"Unit\"])"
   ]
  },
  {
   "cell_type": "code",
   "execution_count": 6,
   "id": "373b7f62",
   "metadata": {
    "scrolled": true
   },
   "outputs": [
    {
     "data": {
      "text/html": [
       "<div>\n",
       "<style scoped>\n",
       "    .dataframe tbody tr th:only-of-type {\n",
       "        vertical-align: middle;\n",
       "    }\n",
       "\n",
       "    .dataframe tbody tr th {\n",
       "        vertical-align: top;\n",
       "    }\n",
       "\n",
       "    .dataframe thead th {\n",
       "        text-align: right;\n",
       "    }\n",
       "</style>\n",
       "<table border=\"1\" class=\"dataframe\">\n",
       "  <thead>\n",
       "    <tr style=\"text-align: right;\">\n",
       "      <th></th>\n",
       "      <th>Country</th>\n",
       "      <th>deltapop%</th>\n",
       "    </tr>\n",
       "  </thead>\n",
       "  <tbody>\n",
       "    <tr>\n",
       "      <th>1</th>\n",
       "      <td>Afghanistan</td>\n",
       "      <td>2.892393</td>\n",
       "    </tr>\n",
       "    <tr>\n",
       "      <th>3</th>\n",
       "      <td>Albania</td>\n",
       "      <td>-0.423461</td>\n",
       "    </tr>\n",
       "    <tr>\n",
       "      <th>5</th>\n",
       "      <td>Algeria</td>\n",
       "      <td>1.671512</td>\n",
       "    </tr>\n",
       "    <tr>\n",
       "      <th>7</th>\n",
       "      <td>Angola</td>\n",
       "      <td>3.216657</td>\n",
       "    </tr>\n",
       "    <tr>\n",
       "      <th>9</th>\n",
       "      <td>Antigua and Barbuda</td>\n",
       "      <td>0.604360</td>\n",
       "    </tr>\n",
       "    <tr>\n",
       "      <th>...</th>\n",
       "      <td>...</td>\n",
       "      <td>...</td>\n",
       "    </tr>\n",
       "    <tr>\n",
       "      <th>361</th>\n",
       "      <td>Venezuela (Bolivarian Republic of)</td>\n",
       "      <td>-1.019921</td>\n",
       "    </tr>\n",
       "    <tr>\n",
       "      <th>363</th>\n",
       "      <td>Viet Nam</td>\n",
       "      <td>0.847761</td>\n",
       "    </tr>\n",
       "    <tr>\n",
       "      <th>365</th>\n",
       "      <td>Yemen</td>\n",
       "      <td>2.160788</td>\n",
       "    </tr>\n",
       "    <tr>\n",
       "      <th>367</th>\n",
       "      <td>Zambia</td>\n",
       "      <td>2.881541</td>\n",
       "    </tr>\n",
       "    <tr>\n",
       "      <th>369</th>\n",
       "      <td>Zimbabwe</td>\n",
       "      <td>2.066731</td>\n",
       "    </tr>\n",
       "  </tbody>\n",
       "</table>\n",
       "<p>185 rows × 2 columns</p>\n",
       "</div>"
      ],
      "text/plain": [
       "                                Country  deltapop%\n",
       "1                           Afghanistan   2.892393\n",
       "3                               Albania  -0.423461\n",
       "5                               Algeria   1.671512\n",
       "7                                Angola   3.216657\n",
       "9                   Antigua and Barbuda   0.604360\n",
       "..                                  ...        ...\n",
       "361  Venezuela (Bolivarian Republic of)  -1.019921\n",
       "363                            Viet Nam   0.847761\n",
       "365                               Yemen   2.160788\n",
       "367                              Zambia   2.881541\n",
       "369                            Zimbabwe   2.066731\n",
       "\n",
       "[185 rows x 2 columns]"
      ]
     },
     "execution_count": 6,
     "metadata": {},
     "output_type": "execute_result"
    }
   ],
   "source": [
    "deltapop2021[\"deltapop%\"]=(((pop2021-pop2020)/pop2020)*100)\n",
    "deltapop2021"
   ]
  },
  {
   "cell_type": "code",
   "execution_count": 7,
   "id": "bd42eb4c",
   "metadata": {},
   "outputs": [],
   "source": [
    "deltapop2021.to_csv('popchg.csv', index=False) "
   ]
  },
  {
   "cell_type": "markdown",
   "id": "5d590eaf",
   "metadata": {},
   "source": [
    "# Calculate animal protein proportion to the total amount of proteins available in the country."
   ]
  },
  {
   "cell_type": "code",
   "execution_count": 8,
   "id": "f281ff77",
   "metadata": {
    "scrolled": true
   },
   "outputs": [],
   "source": [
    "sub4 = df4[[\"Year\",\"Area\",\"Element\",\"Item\",\"Value\",\"Unit\"]]\n",
    "animalprotein2021 = sub4.dropna(axis=0)\n",
    "animalprotein2021=(animalprotein2021.groupby(by=\"Item\").get_group(\"Animal Products\"))"
   ]
  },
  {
   "cell_type": "code",
   "execution_count": 9,
   "id": "ceb816be",
   "metadata": {
    "scrolled": true
   },
   "outputs": [],
   "source": [
    "totalprotein=(sub4.groupby(by=\"Item\").get_group(\"Grand Total\"))"
   ]
  },
  {
   "cell_type": "code",
   "execution_count": 10,
   "id": "fa1f2c9d",
   "metadata": {
    "scrolled": true
   },
   "outputs": [
    {
     "name": "stderr",
     "output_type": "stream",
     "text": [
      "C:\\Users\\dinad\\AppData\\Local\\Temp\\ipykernel_12088\\89987015.py:2: SettingWithCopyWarning: \n",
      "A value is trying to be set on a copy of a slice from a DataFrame.\n",
      "Try using .loc[row_indexer,col_indexer] = value instead\n",
      "\n",
      "See the caveats in the documentation: https://pandas.pydata.org/pandas-docs/stable/user_guide/indexing.html#returning-a-view-versus-a-copy\n",
      "  animal_protein_proportion_2021[\"Animal_Protein_Proportion\"]=(animalprotein2021.Value.values/totalprotein.Value.values)*100\n"
     ]
    }
   ],
   "source": [
    "animal_protein_proportion_2021=sub4.groupby(by=\"Item\").get_group(\"Grand Total\")\n",
    "animal_protein_proportion_2021[\"Animal_Protein_Proportion\"]=(animalprotein2021.Value.values/totalprotein.Value.values)*100"
   ]
  },
  {
   "cell_type": "code",
   "execution_count": 11,
   "id": "229705f5",
   "metadata": {},
   "outputs": [],
   "source": [
    "animal_protein_proportion_2021 = animal_protein_proportion_2021.drop(columns=[\"Item\",\"Element\",\"Unit\",\"Value\"]).round(2).rename(columns={\"Area\": \"Country\"})"
   ]
  },
  {
   "cell_type": "code",
   "execution_count": 12,
   "id": "ab09c358",
   "metadata": {},
   "outputs": [
    {
     "data": {
      "text/html": [
       "<div>\n",
       "<style scoped>\n",
       "    .dataframe tbody tr th:only-of-type {\n",
       "        vertical-align: middle;\n",
       "    }\n",
       "\n",
       "    .dataframe tbody tr th {\n",
       "        vertical-align: top;\n",
       "    }\n",
       "\n",
       "    .dataframe thead th {\n",
       "        text-align: right;\n",
       "    }\n",
       "</style>\n",
       "<table border=\"1\" class=\"dataframe\">\n",
       "  <thead>\n",
       "    <tr style=\"text-align: right;\">\n",
       "      <th></th>\n",
       "      <th>Year</th>\n",
       "      <th>Country</th>\n",
       "      <th>Animal_Protein_Proportion</th>\n",
       "    </tr>\n",
       "  </thead>\n",
       "  <tbody>\n",
       "    <tr>\n",
       "      <th>0</th>\n",
       "      <td>2021</td>\n",
       "      <td>Afghanistan</td>\n",
       "      <td>17.27</td>\n",
       "    </tr>\n",
       "    <tr>\n",
       "      <th>2</th>\n",
       "      <td>2021</td>\n",
       "      <td>Albania</td>\n",
       "      <td>55.52</td>\n",
       "    </tr>\n",
       "    <tr>\n",
       "      <th>4</th>\n",
       "      <td>2021</td>\n",
       "      <td>Algeria</td>\n",
       "      <td>27.96</td>\n",
       "    </tr>\n",
       "    <tr>\n",
       "      <th>6</th>\n",
       "      <td>2021</td>\n",
       "      <td>Angola</td>\n",
       "      <td>29.76</td>\n",
       "    </tr>\n",
       "    <tr>\n",
       "      <th>8</th>\n",
       "      <td>2021</td>\n",
       "      <td>Antigua and Barbuda</td>\n",
       "      <td>70.27</td>\n",
       "    </tr>\n",
       "    <tr>\n",
       "      <th>...</th>\n",
       "      <td>...</td>\n",
       "      <td>...</td>\n",
       "      <td>...</td>\n",
       "    </tr>\n",
       "    <tr>\n",
       "      <th>360</th>\n",
       "      <td>2021</td>\n",
       "      <td>Venezuela (Bolivarian Republic of)</td>\n",
       "      <td>47.24</td>\n",
       "    </tr>\n",
       "    <tr>\n",
       "      <th>362</th>\n",
       "      <td>2021</td>\n",
       "      <td>Viet Nam</td>\n",
       "      <td>41.08</td>\n",
       "    </tr>\n",
       "    <tr>\n",
       "      <th>364</th>\n",
       "      <td>2021</td>\n",
       "      <td>Yemen</td>\n",
       "      <td>21.64</td>\n",
       "    </tr>\n",
       "    <tr>\n",
       "      <th>366</th>\n",
       "      <td>2021</td>\n",
       "      <td>Zambia</td>\n",
       "      <td>28.84</td>\n",
       "    </tr>\n",
       "    <tr>\n",
       "      <th>368</th>\n",
       "      <td>2021</td>\n",
       "      <td>Zimbabwe</td>\n",
       "      <td>53.03</td>\n",
       "    </tr>\n",
       "  </tbody>\n",
       "</table>\n",
       "<p>185 rows × 3 columns</p>\n",
       "</div>"
      ],
      "text/plain": [
       "     Year                             Country  Animal_Protein_Proportion\n",
       "0    2021                         Afghanistan                      17.27\n",
       "2    2021                             Albania                      55.52\n",
       "4    2021                             Algeria                      27.96\n",
       "6    2021                              Angola                      29.76\n",
       "8    2021                 Antigua and Barbuda                      70.27\n",
       "..    ...                                 ...                        ...\n",
       "360  2021  Venezuela (Bolivarian Republic of)                      47.24\n",
       "362  2021                            Viet Nam                      41.08\n",
       "364  2021                               Yemen                      21.64\n",
       "366  2021                              Zambia                      28.84\n",
       "368  2021                            Zimbabwe                      53.03\n",
       "\n",
       "[185 rows x 3 columns]"
      ]
     },
     "execution_count": 12,
     "metadata": {},
     "output_type": "execute_result"
    }
   ],
   "source": [
    "animal_protein_proportion_2021"
   ]
  },
  {
   "cell_type": "code",
   "execution_count": 13,
   "id": "a779d4b7",
   "metadata": {
    "scrolled": true
   },
   "outputs": [],
   "source": [
    "animal_protein_proportion_2021.to_csv('aniprot.csv', index=False) "
   ]
  },
  {
   "cell_type": "markdown",
   "id": "a67b41be",
   "metadata": {},
   "source": [
    "# Calculate protein balance in g/cap/day and food supply in kcal/cap/day"
   ]
  },
  {
   "cell_type": "code",
   "execution_count": 14,
   "id": "a9d80974",
   "metadata": {
    "scrolled": true
   },
   "outputs": [
    {
     "data": {
      "text/html": [
       "<div>\n",
       "<style scoped>\n",
       "    .dataframe tbody tr th:only-of-type {\n",
       "        vertical-align: middle;\n",
       "    }\n",
       "\n",
       "    .dataframe tbody tr th {\n",
       "        vertical-align: top;\n",
       "    }\n",
       "\n",
       "    .dataframe thead th {\n",
       "        text-align: right;\n",
       "    }\n",
       "</style>\n",
       "<table border=\"1\" class=\"dataframe\">\n",
       "  <thead>\n",
       "    <tr style=\"text-align: right;\">\n",
       "      <th></th>\n",
       "      <th>Country</th>\n",
       "      <th>Protein_gr/cap/day</th>\n",
       "    </tr>\n",
       "  </thead>\n",
       "  <tbody>\n",
       "    <tr>\n",
       "      <th>0</th>\n",
       "      <td>Afghanistan</td>\n",
       "      <td>60.70</td>\n",
       "    </tr>\n",
       "    <tr>\n",
       "      <th>2</th>\n",
       "      <td>Albania</td>\n",
       "      <td>120.13</td>\n",
       "    </tr>\n",
       "    <tr>\n",
       "      <th>4</th>\n",
       "      <td>Algeria</td>\n",
       "      <td>93.74</td>\n",
       "    </tr>\n",
       "    <tr>\n",
       "      <th>6</th>\n",
       "      <td>Angola</td>\n",
       "      <td>46.78</td>\n",
       "    </tr>\n",
       "    <tr>\n",
       "      <th>8</th>\n",
       "      <td>Antigua and Barbuda</td>\n",
       "      <td>89.45</td>\n",
       "    </tr>\n",
       "    <tr>\n",
       "      <th>...</th>\n",
       "      <td>...</td>\n",
       "      <td>...</td>\n",
       "    </tr>\n",
       "    <tr>\n",
       "      <th>360</th>\n",
       "      <td>Venezuela (Bolivarian Republic of)</td>\n",
       "      <td>62.57</td>\n",
       "    </tr>\n",
       "    <tr>\n",
       "      <th>362</th>\n",
       "      <td>Viet Nam</td>\n",
       "      <td>96.90</td>\n",
       "    </tr>\n",
       "    <tr>\n",
       "      <th>364</th>\n",
       "      <td>Yemen</td>\n",
       "      <td>61.10</td>\n",
       "    </tr>\n",
       "    <tr>\n",
       "      <th>366</th>\n",
       "      <td>Zambia</td>\n",
       "      <td>46.74</td>\n",
       "    </tr>\n",
       "    <tr>\n",
       "      <th>368</th>\n",
       "      <td>Zimbabwe</td>\n",
       "      <td>57.61</td>\n",
       "    </tr>\n",
       "  </tbody>\n",
       "</table>\n",
       "<p>185 rows × 2 columns</p>\n",
       "</div>"
      ],
      "text/plain": [
       "                                Country  Protein_gr/cap/day\n",
       "0                           Afghanistan               60.70\n",
       "2                               Albania              120.13\n",
       "4                               Algeria               93.74\n",
       "6                                Angola               46.78\n",
       "8                   Antigua and Barbuda               89.45\n",
       "..                                  ...                 ...\n",
       "360  Venezuela (Bolivarian Republic of)               62.57\n",
       "362                            Viet Nam               96.90\n",
       "364                               Yemen               61.10\n",
       "366                              Zambia               46.74\n",
       "368                            Zimbabwe               57.61\n",
       "\n",
       "[185 rows x 2 columns]"
      ]
     },
     "execution_count": 14,
     "metadata": {},
     "output_type": "execute_result"
    }
   ],
   "source": [
    "protein_bal = totalprotein[[\"Area\",\"Value\"]]\n",
    "protein_bal = protein_bal.rename(columns={\"Area\": \"Country\",\"Value\":\"Protein_gr/cap/day\"})\n",
    "protein_bal"
   ]
  },
  {
   "cell_type": "code",
   "execution_count": 15,
   "id": "e11a32cf",
   "metadata": {},
   "outputs": [],
   "source": [
    "pivot_1 = pd.pivot_table(df1, index=['Area'], columns=['Element'], values='Value',aggfunc=\"sum\", fill_value=0)\n",
    "foodsupply_bal = pivot_1.drop(columns=[\"Production\",\"Protein supply quantity (g/capita/day)\",\"Total Population - Both sexes\"])"
   ]
  },
  {
   "cell_type": "code",
   "execution_count": 16,
   "id": "51db43fc",
   "metadata": {
    "scrolled": true
   },
   "outputs": [],
   "source": [
    "foodsupply_bal=foodsupply_bal.reset_index().rename(columns={\"Area\": \"Country\"})"
   ]
  },
  {
   "cell_type": "code",
   "execution_count": 17,
   "id": "c12a2798",
   "metadata": {},
   "outputs": [],
   "source": [
    "fb = protein_bal.merge(foodsupply_bal,left_on='Country',right_on='Country')"
   ]
  },
  {
   "cell_type": "code",
   "execution_count": 18,
   "id": "b4836680",
   "metadata": {},
   "outputs": [
    {
     "data": {
      "text/html": [
       "<div>\n",
       "<style scoped>\n",
       "    .dataframe tbody tr th:only-of-type {\n",
       "        vertical-align: middle;\n",
       "    }\n",
       "\n",
       "    .dataframe tbody tr th {\n",
       "        vertical-align: top;\n",
       "    }\n",
       "\n",
       "    .dataframe thead th {\n",
       "        text-align: right;\n",
       "    }\n",
       "</style>\n",
       "<table border=\"1\" class=\"dataframe\">\n",
       "  <thead>\n",
       "    <tr style=\"text-align: right;\">\n",
       "      <th></th>\n",
       "      <th>Year</th>\n",
       "      <th>Country</th>\n",
       "      <th>Animal_Protein_Proportion</th>\n",
       "      <th>Protein_gr/cap/day</th>\n",
       "      <th>Food supply (kcal/capita/day)</th>\n",
       "    </tr>\n",
       "  </thead>\n",
       "  <tbody>\n",
       "    <tr>\n",
       "      <th>0</th>\n",
       "      <td>2021</td>\n",
       "      <td>Afghanistan</td>\n",
       "      <td>17.27</td>\n",
       "      <td>60.70</td>\n",
       "      <td>2374.77</td>\n",
       "    </tr>\n",
       "    <tr>\n",
       "      <th>1</th>\n",
       "      <td>2021</td>\n",
       "      <td>Albania</td>\n",
       "      <td>55.52</td>\n",
       "      <td>120.13</td>\n",
       "      <td>4520.92</td>\n",
       "    </tr>\n",
       "    <tr>\n",
       "      <th>2</th>\n",
       "      <td>2021</td>\n",
       "      <td>Algeria</td>\n",
       "      <td>27.96</td>\n",
       "      <td>93.74</td>\n",
       "      <td>3928.05</td>\n",
       "    </tr>\n",
       "    <tr>\n",
       "      <th>3</th>\n",
       "      <td>2021</td>\n",
       "      <td>Angola</td>\n",
       "      <td>29.76</td>\n",
       "      <td>46.78</td>\n",
       "      <td>2577.21</td>\n",
       "    </tr>\n",
       "    <tr>\n",
       "      <th>4</th>\n",
       "      <td>2021</td>\n",
       "      <td>Antigua and Barbuda</td>\n",
       "      <td>70.27</td>\n",
       "      <td>89.45</td>\n",
       "      <td>3426.09</td>\n",
       "    </tr>\n",
       "    <tr>\n",
       "      <th>...</th>\n",
       "      <td>...</td>\n",
       "      <td>...</td>\n",
       "      <td>...</td>\n",
       "      <td>...</td>\n",
       "      <td>...</td>\n",
       "    </tr>\n",
       "    <tr>\n",
       "      <th>180</th>\n",
       "      <td>2021</td>\n",
       "      <td>Venezuela (Bolivarian Republic of)</td>\n",
       "      <td>47.24</td>\n",
       "      <td>62.57</td>\n",
       "      <td>2716.81</td>\n",
       "    </tr>\n",
       "    <tr>\n",
       "      <th>181</th>\n",
       "      <td>2021</td>\n",
       "      <td>Viet Nam</td>\n",
       "      <td>41.08</td>\n",
       "      <td>96.90</td>\n",
       "      <td>3603.18</td>\n",
       "    </tr>\n",
       "    <tr>\n",
       "      <th>182</th>\n",
       "      <td>2021</td>\n",
       "      <td>Yemen</td>\n",
       "      <td>21.64</td>\n",
       "      <td>61.10</td>\n",
       "      <td>2361.50</td>\n",
       "    </tr>\n",
       "    <tr>\n",
       "      <th>183</th>\n",
       "      <td>2021</td>\n",
       "      <td>Zambia</td>\n",
       "      <td>28.84</td>\n",
       "      <td>46.74</td>\n",
       "      <td>2384.21</td>\n",
       "    </tr>\n",
       "    <tr>\n",
       "      <th>184</th>\n",
       "      <td>2021</td>\n",
       "      <td>Zimbabwe</td>\n",
       "      <td>53.03</td>\n",
       "      <td>57.61</td>\n",
       "      <td>2483.67</td>\n",
       "    </tr>\n",
       "  </tbody>\n",
       "</table>\n",
       "<p>185 rows × 5 columns</p>\n",
       "</div>"
      ],
      "text/plain": [
       "     Year                             Country  Animal_Protein_Proportion  \\\n",
       "0    2021                         Afghanistan                      17.27   \n",
       "1    2021                             Albania                      55.52   \n",
       "2    2021                             Algeria                      27.96   \n",
       "3    2021                              Angola                      29.76   \n",
       "4    2021                 Antigua and Barbuda                      70.27   \n",
       "..    ...                                 ...                        ...   \n",
       "180  2021  Venezuela (Bolivarian Republic of)                      47.24   \n",
       "181  2021                            Viet Nam                      41.08   \n",
       "182  2021                               Yemen                      21.64   \n",
       "183  2021                              Zambia                      28.84   \n",
       "184  2021                            Zimbabwe                      53.03   \n",
       "\n",
       "     Protein_gr/cap/day  Food supply (kcal/capita/day)  \n",
       "0                 60.70                        2374.77  \n",
       "1                120.13                        4520.92  \n",
       "2                 93.74                        3928.05  \n",
       "3                 46.78                        2577.21  \n",
       "4                 89.45                        3426.09  \n",
       "..                  ...                            ...  \n",
       "180               62.57                        2716.81  \n",
       "181               96.90                        3603.18  \n",
       "182               61.10                        2361.50  \n",
       "183               46.74                        2384.21  \n",
       "184               57.61                        2483.67  \n",
       "\n",
       "[185 rows x 5 columns]"
      ]
     },
     "execution_count": 18,
     "metadata": {},
     "output_type": "execute_result"
    }
   ],
   "source": [
    "fb_1 = animal_protein_proportion_2021.merge(fb,left_on='Country',right_on='Country')\n",
    "fb_1"
   ]
  },
  {
   "cell_type": "markdown",
   "id": "c9b2eca9",
   "metadata": {},
   "source": [
    "# Calculate GDP percentage change 2020-2021"
   ]
  },
  {
   "cell_type": "code",
   "execution_count": 19,
   "id": "831b175c",
   "metadata": {
    "scrolled": true
   },
   "outputs": [],
   "source": [
    "gdp = df2.drop(columns=[\"Domain\",\"Domain Code\",\"Area Code (M49)\",\"Element Code\",\"Element\",\"Year Code\",\"Flag\",\"Flag Description\",\"Note\"]).rename(columns={\"Value\":\"gdp_USD_mil\",\"Area\":\"Country\"})\n",
    "gdp2021 = gdp.groupby(by=\"Year\").get_group(2021).gdp_USD_mil.values\n",
    "gdp2020 = gdp.groupby(by=\"Year\").get_group(2020).gdp_USD_mil.values"
   ]
  },
  {
   "cell_type": "code",
   "execution_count": 20,
   "id": "c0332bf8",
   "metadata": {
    "scrolled": true
   },
   "outputs": [],
   "source": [
    "deltagdp2021=gdp.groupby(by=\"Year\").get_group(2021).drop(columns=[\"Item\",\"Item Code\",\"Year\",\"Unit\"]).rename(columns={\"gdp_USD_mil\":\"2021_GDP_mil\"})"
   ]
  },
  {
   "cell_type": "code",
   "execution_count": 21,
   "id": "df618614",
   "metadata": {},
   "outputs": [],
   "source": [
    "deltagdp2021[\"GDP_delta_20-21\"] = (gdp2021-gdp2020)/(gdp2020)*100"
   ]
  },
  {
   "cell_type": "code",
   "execution_count": 22,
   "id": "0b8e7a1a",
   "metadata": {},
   "outputs": [],
   "source": [
    "delta = deltapop2021.merge(deltagdp2021,left_on='Country',right_on='Country')"
   ]
  },
  {
   "cell_type": "markdown",
   "id": "cacf519b",
   "metadata": {},
   "source": [
    "# Additional helpful information: Poultry meat balances"
   ]
  },
  {
   "cell_type": "code",
   "execution_count": 23,
   "id": "95f5be68",
   "metadata": {},
   "outputs": [],
   "source": [
    "df5 = pd.read_csv(\"poultry2021.csv\")"
   ]
  },
  {
   "cell_type": "code",
   "execution_count": 24,
   "id": "2e27107f",
   "metadata": {},
   "outputs": [],
   "source": [
    "pivot_5 = pd.pivot_table(df5, index=['Area'], columns=['Element'], values='Value',aggfunc=\"sum\", fill_value=0).reset_index()\n",
    "poultry_meat_bal_2021 = pivot_5.rename(columns={\"Area\":\"Country\",\"Domestic supply quantity\":\"poultrymeat_domestic_supply_1000t\",\"Export Quantity\":\"poultrymeat_export_1000t\",\"Import Quantity\":\"poultrymeat_import_1000t\",\"Production\":\"poultrymeat_production_1000t\"})"
   ]
  },
  {
   "cell_type": "code",
   "execution_count": 25,
   "id": "b2e5f02a",
   "metadata": {
    "scrolled": true
   },
   "outputs": [
    {
     "data": {
      "text/html": [
       "<div>\n",
       "<style scoped>\n",
       "    .dataframe tbody tr th:only-of-type {\n",
       "        vertical-align: middle;\n",
       "    }\n",
       "\n",
       "    .dataframe tbody tr th {\n",
       "        vertical-align: top;\n",
       "    }\n",
       "\n",
       "    .dataframe thead th {\n",
       "        text-align: right;\n",
       "    }\n",
       "</style>\n",
       "<table border=\"1\" class=\"dataframe\">\n",
       "  <thead>\n",
       "    <tr style=\"text-align: right;\">\n",
       "      <th>Element</th>\n",
       "      <th>Country</th>\n",
       "      <th>poultrymeat_domestic_supply_1000t</th>\n",
       "      <th>poultrymeat_export_1000t</th>\n",
       "      <th>poultrymeat_import_1000t</th>\n",
       "      <th>poultrymeat_production_1000t</th>\n",
       "    </tr>\n",
       "  </thead>\n",
       "  <tbody>\n",
       "    <tr>\n",
       "      <th>0</th>\n",
       "      <td>Afghanistan</td>\n",
       "      <td>61</td>\n",
       "      <td>0</td>\n",
       "      <td>33</td>\n",
       "      <td>28</td>\n",
       "    </tr>\n",
       "    <tr>\n",
       "      <th>1</th>\n",
       "      <td>Albania</td>\n",
       "      <td>63</td>\n",
       "      <td>0</td>\n",
       "      <td>48</td>\n",
       "      <td>14</td>\n",
       "    </tr>\n",
       "    <tr>\n",
       "      <th>2</th>\n",
       "      <td>Algeria</td>\n",
       "      <td>258</td>\n",
       "      <td>0</td>\n",
       "      <td>0</td>\n",
       "      <td>258</td>\n",
       "    </tr>\n",
       "    <tr>\n",
       "      <th>3</th>\n",
       "      <td>Angola</td>\n",
       "      <td>286</td>\n",
       "      <td>0</td>\n",
       "      <td>246</td>\n",
       "      <td>40</td>\n",
       "    </tr>\n",
       "    <tr>\n",
       "      <th>4</th>\n",
       "      <td>Antigua and Barbuda</td>\n",
       "      <td>7</td>\n",
       "      <td>0</td>\n",
       "      <td>7</td>\n",
       "      <td>0</td>\n",
       "    </tr>\n",
       "    <tr>\n",
       "      <th>...</th>\n",
       "      <td>...</td>\n",
       "      <td>...</td>\n",
       "      <td>...</td>\n",
       "      <td>...</td>\n",
       "      <td>...</td>\n",
       "    </tr>\n",
       "    <tr>\n",
       "      <th>180</th>\n",
       "      <td>Venezuela (Bolivarian Republic of)</td>\n",
       "      <td>459</td>\n",
       "      <td>0</td>\n",
       "      <td>17</td>\n",
       "      <td>442</td>\n",
       "    </tr>\n",
       "    <tr>\n",
       "      <th>181</th>\n",
       "      <td>Viet Nam</td>\n",
       "      <td>1913</td>\n",
       "      <td>11</td>\n",
       "      <td>221</td>\n",
       "      <td>1703</td>\n",
       "    </tr>\n",
       "    <tr>\n",
       "      <th>182</th>\n",
       "      <td>Yemen</td>\n",
       "      <td>354</td>\n",
       "      <td>0</td>\n",
       "      <td>148</td>\n",
       "      <td>206</td>\n",
       "    </tr>\n",
       "    <tr>\n",
       "      <th>183</th>\n",
       "      <td>Zambia</td>\n",
       "      <td>63</td>\n",
       "      <td>9</td>\n",
       "      <td>20</td>\n",
       "      <td>52</td>\n",
       "    </tr>\n",
       "    <tr>\n",
       "      <th>184</th>\n",
       "      <td>Zimbabwe</td>\n",
       "      <td>117</td>\n",
       "      <td>0</td>\n",
       "      <td>4</td>\n",
       "      <td>113</td>\n",
       "    </tr>\n",
       "  </tbody>\n",
       "</table>\n",
       "<p>185 rows × 5 columns</p>\n",
       "</div>"
      ],
      "text/plain": [
       "Element                             Country  \\\n",
       "0                               Afghanistan   \n",
       "1                                   Albania   \n",
       "2                                   Algeria   \n",
       "3                                    Angola   \n",
       "4                       Antigua and Barbuda   \n",
       "..                                      ...   \n",
       "180      Venezuela (Bolivarian Republic of)   \n",
       "181                                Viet Nam   \n",
       "182                                   Yemen   \n",
       "183                                  Zambia   \n",
       "184                                Zimbabwe   \n",
       "\n",
       "Element  poultrymeat_domestic_supply_1000t  poultrymeat_export_1000t  \\\n",
       "0                                       61                         0   \n",
       "1                                       63                         0   \n",
       "2                                      258                         0   \n",
       "3                                      286                         0   \n",
       "4                                        7                         0   \n",
       "..                                     ...                       ...   \n",
       "180                                    459                         0   \n",
       "181                                   1913                        11   \n",
       "182                                    354                         0   \n",
       "183                                     63                         9   \n",
       "184                                    117                         0   \n",
       "\n",
       "Element  poultrymeat_import_1000t  poultrymeat_production_1000t  \n",
       "0                              33                            28  \n",
       "1                              48                            14  \n",
       "2                               0                           258  \n",
       "3                             246                            40  \n",
       "4                               7                             0  \n",
       "..                            ...                           ...  \n",
       "180                            17                           442  \n",
       "181                           221                          1703  \n",
       "182                           148                           206  \n",
       "183                            20                            52  \n",
       "184                             4                           113  \n",
       "\n",
       "[185 rows x 5 columns]"
      ]
     },
     "execution_count": 25,
     "metadata": {},
     "output_type": "execute_result"
    }
   ],
   "source": [
    "poultry_meat_bal_2021"
   ]
  },
  {
   "cell_type": "code",
   "execution_count": 26,
   "id": "38132464",
   "metadata": {
    "scrolled": true
   },
   "outputs": [],
   "source": [
    "## merging fb_1 dataframe to poultry_meat_bal_2021 df\n",
    "fbs = fb_1.merge(poultry_meat_bal_2021,left_on='Country',right_on='Country')"
   ]
  },
  {
   "cell_type": "code",
   "execution_count": 27,
   "id": "2bc31bca",
   "metadata": {},
   "outputs": [],
   "source": [
    "countries_data = fbs.merge(delta,left_on='Country',right_on='Country')"
   ]
  },
  {
   "cell_type": "code",
   "execution_count": 28,
   "id": "b55b884a",
   "metadata": {
    "scrolled": true
   },
   "outputs": [],
   "source": [
    "## Saving all merged data into one csv file\n",
    "countries_data.to_csv('countriesdata.csv', index=False)"
   ]
  },
  {
   "cell_type": "markdown",
   "id": "13f52107",
   "metadata": {},
   "source": [
    "# Perform PCA"
   ]
  },
  {
   "cell_type": "code",
   "execution_count": 29,
   "id": "02efe7ea",
   "metadata": {},
   "outputs": [
    {
     "data": {
      "text/html": [
       "<div>\n",
       "<style scoped>\n",
       "    .dataframe tbody tr th:only-of-type {\n",
       "        vertical-align: middle;\n",
       "    }\n",
       "\n",
       "    .dataframe tbody tr th {\n",
       "        vertical-align: top;\n",
       "    }\n",
       "\n",
       "    .dataframe thead th {\n",
       "        text-align: right;\n",
       "    }\n",
       "</style>\n",
       "<table border=\"1\" class=\"dataframe\">\n",
       "  <thead>\n",
       "    <tr style=\"text-align: right;\">\n",
       "      <th></th>\n",
       "      <th>Animal_Protein_Proportion</th>\n",
       "      <th>Protein_gr/cap/day</th>\n",
       "      <th>Food supply (kcal/capita/day)</th>\n",
       "      <th>poultrymeat_domestic_supply_1000t</th>\n",
       "      <th>poultrymeat_export_1000t</th>\n",
       "      <th>poultrymeat_import_1000t</th>\n",
       "      <th>poultrymeat_production_1000t</th>\n",
       "      <th>deltapop%</th>\n",
       "      <th>2021_GDP_mil</th>\n",
       "      <th>GDP_delta_20-21</th>\n",
       "    </tr>\n",
       "  </thead>\n",
       "  <tbody>\n",
       "    <tr>\n",
       "      <th>0</th>\n",
       "      <td>17.27</td>\n",
       "      <td>60.70</td>\n",
       "      <td>2374.77</td>\n",
       "      <td>61</td>\n",
       "      <td>0</td>\n",
       "      <td>33</td>\n",
       "      <td>28</td>\n",
       "      <td>2.892393</td>\n",
       "      <td>14939.009447</td>\n",
       "      <td>-25.836857</td>\n",
       "    </tr>\n",
       "    <tr>\n",
       "      <th>1</th>\n",
       "      <td>55.52</td>\n",
       "      <td>120.13</td>\n",
       "      <td>4520.92</td>\n",
       "      <td>63</td>\n",
       "      <td>0</td>\n",
       "      <td>48</td>\n",
       "      <td>14</td>\n",
       "      <td>-0.423461</td>\n",
       "      <td>18260.043500</td>\n",
       "      <td>20.672779</td>\n",
       "    </tr>\n",
       "    <tr>\n",
       "      <th>2</th>\n",
       "      <td>27.96</td>\n",
       "      <td>93.74</td>\n",
       "      <td>3928.05</td>\n",
       "      <td>258</td>\n",
       "      <td>0</td>\n",
       "      <td>0</td>\n",
       "      <td>258</td>\n",
       "      <td>1.671512</td>\n",
       "      <td>163472.801517</td>\n",
       "      <td>12.164696</td>\n",
       "    </tr>\n",
       "    <tr>\n",
       "      <th>3</th>\n",
       "      <td>29.76</td>\n",
       "      <td>46.78</td>\n",
       "      <td>2577.21</td>\n",
       "      <td>286</td>\n",
       "      <td>0</td>\n",
       "      <td>246</td>\n",
       "      <td>40</td>\n",
       "      <td>3.216657</td>\n",
       "      <td>70533.243177</td>\n",
       "      <td>28.660805</td>\n",
       "    </tr>\n",
       "    <tr>\n",
       "      <th>4</th>\n",
       "      <td>70.27</td>\n",
       "      <td>89.45</td>\n",
       "      <td>3426.09</td>\n",
       "      <td>7</td>\n",
       "      <td>0</td>\n",
       "      <td>7</td>\n",
       "      <td>0</td>\n",
       "      <td>0.604360</td>\n",
       "      <td>1421.200000</td>\n",
       "      <td>3.710591</td>\n",
       "    </tr>\n",
       "    <tr>\n",
       "      <th>...</th>\n",
       "      <td>...</td>\n",
       "      <td>...</td>\n",
       "      <td>...</td>\n",
       "      <td>...</td>\n",
       "      <td>...</td>\n",
       "      <td>...</td>\n",
       "      <td>...</td>\n",
       "      <td>...</td>\n",
       "      <td>...</td>\n",
       "      <td>...</td>\n",
       "    </tr>\n",
       "    <tr>\n",
       "      <th>179</th>\n",
       "      <td>47.24</td>\n",
       "      <td>62.57</td>\n",
       "      <td>2716.81</td>\n",
       "      <td>459</td>\n",
       "      <td>0</td>\n",
       "      <td>17</td>\n",
       "      <td>442</td>\n",
       "      <td>-1.019921</td>\n",
       "      <td>111813.440703</td>\n",
       "      <td>4.990346</td>\n",
       "    </tr>\n",
       "    <tr>\n",
       "      <th>180</th>\n",
       "      <td>41.08</td>\n",
       "      <td>96.90</td>\n",
       "      <td>3603.18</td>\n",
       "      <td>1913</td>\n",
       "      <td>11</td>\n",
       "      <td>221</td>\n",
       "      <td>1703</td>\n",
       "      <td>0.847761</td>\n",
       "      <td>366137.569132</td>\n",
       "      <td>5.632125</td>\n",
       "    </tr>\n",
       "    <tr>\n",
       "      <th>181</th>\n",
       "      <td>21.64</td>\n",
       "      <td>61.10</td>\n",
       "      <td>2361.50</td>\n",
       "      <td>354</td>\n",
       "      <td>0</td>\n",
       "      <td>148</td>\n",
       "      <td>206</td>\n",
       "      <td>2.160788</td>\n",
       "      <td>9946.815477</td>\n",
       "      <td>5.630864</td>\n",
       "    </tr>\n",
       "    <tr>\n",
       "      <th>182</th>\n",
       "      <td>28.84</td>\n",
       "      <td>46.74</td>\n",
       "      <td>2384.21</td>\n",
       "      <td>63</td>\n",
       "      <td>9</td>\n",
       "      <td>20</td>\n",
       "      <td>52</td>\n",
       "      <td>2.881541</td>\n",
       "      <td>21313.366728</td>\n",
       "      <td>17.684236</td>\n",
       "    </tr>\n",
       "    <tr>\n",
       "      <th>183</th>\n",
       "      <td>53.03</td>\n",
       "      <td>57.61</td>\n",
       "      <td>2483.67</td>\n",
       "      <td>117</td>\n",
       "      <td>0</td>\n",
       "      <td>4</td>\n",
       "      <td>113</td>\n",
       "      <td>2.066731</td>\n",
       "      <td>24118.150864</td>\n",
       "      <td>11.324412</td>\n",
       "    </tr>\n",
       "  </tbody>\n",
       "</table>\n",
       "<p>184 rows × 10 columns</p>\n",
       "</div>"
      ],
      "text/plain": [
       "     Animal_Protein_Proportion  Protein_gr/cap/day  \\\n",
       "0                        17.27               60.70   \n",
       "1                        55.52              120.13   \n",
       "2                        27.96               93.74   \n",
       "3                        29.76               46.78   \n",
       "4                        70.27               89.45   \n",
       "..                         ...                 ...   \n",
       "179                      47.24               62.57   \n",
       "180                      41.08               96.90   \n",
       "181                      21.64               61.10   \n",
       "182                      28.84               46.74   \n",
       "183                      53.03               57.61   \n",
       "\n",
       "     Food supply (kcal/capita/day)  poultrymeat_domestic_supply_1000t  \\\n",
       "0                          2374.77                                 61   \n",
       "1                          4520.92                                 63   \n",
       "2                          3928.05                                258   \n",
       "3                          2577.21                                286   \n",
       "4                          3426.09                                  7   \n",
       "..                             ...                                ...   \n",
       "179                        2716.81                                459   \n",
       "180                        3603.18                               1913   \n",
       "181                        2361.50                                354   \n",
       "182                        2384.21                                 63   \n",
       "183                        2483.67                                117   \n",
       "\n",
       "     poultrymeat_export_1000t  poultrymeat_import_1000t  \\\n",
       "0                           0                        33   \n",
       "1                           0                        48   \n",
       "2                           0                         0   \n",
       "3                           0                       246   \n",
       "4                           0                         7   \n",
       "..                        ...                       ...   \n",
       "179                         0                        17   \n",
       "180                        11                       221   \n",
       "181                         0                       148   \n",
       "182                         9                        20   \n",
       "183                         0                         4   \n",
       "\n",
       "     poultrymeat_production_1000t  deltapop%   2021_GDP_mil  GDP_delta_20-21  \n",
       "0                              28   2.892393   14939.009447       -25.836857  \n",
       "1                              14  -0.423461   18260.043500        20.672779  \n",
       "2                             258   1.671512  163472.801517        12.164696  \n",
       "3                              40   3.216657   70533.243177        28.660805  \n",
       "4                               0   0.604360    1421.200000         3.710591  \n",
       "..                            ...        ...            ...              ...  \n",
       "179                           442  -1.019921  111813.440703         4.990346  \n",
       "180                          1703   0.847761  366137.569132         5.632125  \n",
       "181                           206   2.160788    9946.815477         5.630864  \n",
       "182                            52   2.881541   21313.366728        17.684236  \n",
       "183                           113   2.066731   24118.150864        11.324412  \n",
       "\n",
       "[184 rows x 10 columns]"
      ]
     },
     "execution_count": 29,
     "metadata": {},
     "output_type": "execute_result"
    }
   ],
   "source": [
    "data = countries_data.drop(columns=[\"Year\",\"Country\"])\n",
    "data"
   ]
  },
  {
   "cell_type": "markdown",
   "id": "db7b6ff8",
   "metadata": {},
   "source": [
    "#### We will transform all our data so that all variables are on the same scale. Or to put that mathematically, all variables will have a mean of 0 and standard deviation of 1."
   ]
  },
  {
   "cell_type": "code",
   "execution_count": 30,
   "id": "18f4da34",
   "metadata": {},
   "outputs": [
    {
     "data": {
      "text/plain": [
       "array([[-1.70419554, -1.19149625, -1.52029286, ...,  1.58697369,\n",
       "        -0.22563901, -4.06564001],\n",
       "       [ 0.62179858,  1.33276075,  1.13000255, ..., -1.19863669,\n",
       "        -0.22414936,  0.94554219],\n",
       "       [-1.0541334 ,  0.21185982,  0.39786331, ...,  0.56132616,\n",
       "        -0.15901426,  0.02883852],\n",
       "       ...,\n",
       "       [-1.43845452, -1.17450646, -1.53668008, ...,  0.9723613 ,\n",
       "        -0.22787825, -0.67514941],\n",
       "       [-1.00062033, -1.78443967, -1.50863534, ...,  1.57785711,\n",
       "        -0.22277979,  0.62354158],\n",
       "       [ 0.47038092, -1.32274232, -1.3858115 , ...,  0.89334518,\n",
       "        -0.22152171, -0.06169791]])"
      ]
     },
     "execution_count": 30,
     "metadata": {},
     "output_type": "execute_result"
    }
   ],
   "source": [
    "# Import the sklearn function\n",
    "from sklearn.preprocessing import StandardScaler\n",
    "\n",
    "# Standardize the data\n",
    "scaler = StandardScaler()\n",
    "x_scaled = scaler.fit_transform(data)\n",
    "x_scaled"
   ]
  },
  {
   "cell_type": "code",
   "execution_count": 31,
   "id": "e0eb04c1",
   "metadata": {},
   "outputs": [
    {
     "data": {
      "text/plain": [
       "<Axes: ylabel='Density'>"
      ]
     },
     "execution_count": 31,
     "metadata": {},
     "output_type": "execute_result"
    },
    {
     "data": {
      "image/png": "[encoded data removed]",
      "text/plain": [
       "<Figure size 1200x500 with 1 Axes>"
      ]
     },
     "metadata": {},
     "output_type": "display_data"
    }
   ],
   "source": [
    "# Before scaling or standardizing the data\n",
    "A1 = pd.DataFrame(data,columns=data.columns)\n",
    "\n",
    "A1.plot(kind='density',sharex=True,figsize=(12,5),layout=(10,1))"
   ]
  },
  {
   "cell_type": "code",
   "execution_count": 32,
   "id": "4cb8071f",
   "metadata": {
    "scrolled": true
   },
   "outputs": [
    {
     "data": {
      "text/plain": [
       "<Axes: ylabel='Density'>"
      ]
     },
     "execution_count": 32,
     "metadata": {},
     "output_type": "execute_result"
    },
    {
     "data": {
      "image/png": "[encoded data removed]",
      "text/plain": [
       "<Figure size 1200x500 with 1 Axes>"
      ]
     },
     "metadata": {},
     "output_type": "display_data"
    }
   ],
   "source": [
    "# After Standardizing the data. All the distributions are now centered around the 0 value and have a similar spread.\n",
    "pd.DataFrame(x_scaled,columns=data.columns).plot(kind='density',sharex=True,figsize=(12,5),layout=(10,1))"
   ]
  },
  {
   "cell_type": "markdown",
   "id": "d2fb7301",
   "metadata": {},
   "source": [
    "#### Perform PCA (principal component analysis)"
   ]
  },
  {
   "cell_type": "code",
   "execution_count": 33,
   "id": "d491d929",
   "metadata": {},
   "outputs": [
    {
     "data": {
      "text/html": [
       "<style>#sk-container-id-1 {color: black;background-color: white;}#sk-container-id-1 pre{padding: 0;}#sk-container-id-1 div.sk-toggleable {background-color: white;}#sk-container-id-1 label.sk-toggleable__label {cursor: pointer;display: block;width: 100%;margin-bottom: 0;padding: 0.3em;box-sizing: border-box;text-align: center;}#sk-container-id-1 label.sk-toggleable__label-arrow:before {content: \"▸\";float: left;margin-right: 0.25em;color: #696969;}#sk-container-id-1 label.sk-toggleable__label-arrow:hover:before {color: black;}#sk-container-id-1 div.sk-estimator:hover label.sk-toggleable__label-arrow:before {color: black;}#sk-container-id-1 div.sk-toggleable__content {max-height: 0;max-width: 0;overflow: hidden;text-align: left;background-color: #f0f8ff;}#sk-container-id-1 div.sk-toggleable__content pre {margin: 0.2em;color: black;border-radius: 0.25em;background-color: #f0f8ff;}#sk-container-id-1 input.sk-toggleable__control:checked~div.sk-toggleable__content {max-height: 200px;max-width: 100%;overflow: auto;}#sk-container-id-1 input.sk-toggleable__control:checked~label.sk-toggleable__label-arrow:before {content: \"▾\";}#sk-container-id-1 div.sk-estimator input.sk-toggleable__control:checked~label.sk-toggleable__label {background-color: #d4ebff;}#sk-container-id-1 div.sk-label input.sk-toggleable__control:checked~label.sk-toggleable__label {background-color: #d4ebff;}#sk-container-id-1 input.sk-hidden--visually {border: 0;clip: rect(1px 1px 1px 1px);clip: rect(1px, 1px, 1px, 1px);height: 1px;margin: -1px;overflow: hidden;padding: 0;position: absolute;width: 1px;}#sk-container-id-1 div.sk-estimator {font-family: monospace;background-color: #f0f8ff;border: 1px dotted black;border-radius: 0.25em;box-sizing: border-box;margin-bottom: 0.5em;}#sk-container-id-1 div.sk-estimator:hover {background-color: #d4ebff;}#sk-container-id-1 div.sk-parallel-item::after {content: \"\";width: 100%;border-bottom: 1px solid gray;flex-grow: 1;}#sk-container-id-1 div.sk-label:hover label.sk-toggleable__label {background-color: #d4ebff;}#sk-container-id-1 div.sk-serial::before {content: \"\";position: absolute;border-left: 1px solid gray;box-sizing: border-box;top: 0;bottom: 0;left: 50%;z-index: 0;}#sk-container-id-1 div.sk-serial {display: flex;flex-direction: column;align-items: center;background-color: white;padding-right: 0.2em;padding-left: 0.2em;position: relative;}#sk-container-id-1 div.sk-item {position: relative;z-index: 1;}#sk-container-id-1 div.sk-parallel {display: flex;align-items: stretch;justify-content: center;background-color: white;position: relative;}#sk-container-id-1 div.sk-item::before, #sk-container-id-1 div.sk-parallel-item::before {content: \"\";position: absolute;border-left: 1px solid gray;box-sizing: border-box;top: 0;bottom: 0;left: 50%;z-index: -1;}#sk-container-id-1 div.sk-parallel-item {display: flex;flex-direction: column;z-index: 1;position: relative;background-color: white;}#sk-container-id-1 div.sk-parallel-item:first-child::after {align-self: flex-end;width: 50%;}#sk-container-id-1 div.sk-parallel-item:last-child::after {align-self: flex-start;width: 50%;}#sk-container-id-1 div.sk-parallel-item:only-child::after {width: 0;}#sk-container-id-1 div.sk-dashed-wrapped {border: 1px dashed gray;margin: 0 0.4em 0.5em 0.4em;box-sizing: border-box;padding-bottom: 0.4em;background-color: white;}#sk-container-id-1 div.sk-label label {font-family: monospace;font-weight: bold;display: inline-block;line-height: 1.2em;}#sk-container-id-1 div.sk-label-container {text-align: center;}#sk-container-id-1 div.sk-container {/* jupyter's `normalize.less` sets `[hidden] { display: none; }` but bootstrap.min.css set `[hidden] { display: none !important; }` so we also need the `!important` here to be able to override the default hidden behavior on the sphinx rendered scikit-learn.org. See: https://github.com/scikit-learn/scikit-learn/issues/21755 */display: inline-block !important;position: relative;}#sk-container-id-1 div.sk-text-repr-fallback {display: none;}</style><div id=\"sk-container-id-1\" class=\"sk-top-container\"><div class=\"sk-text-repr-fallback\"><pre>PCA(n_components=10)</pre><b>In a Jupyter environment, please rerun this cell to show the HTML representation or trust the notebook. <br />On GitHub, the HTML representation is unable to render, please try loading this page with nbviewer.org.</b></div><div class=\"sk-container\" hidden><div class=\"sk-item\"><div class=\"sk-estimator sk-toggleable\"><input class=\"sk-toggleable__control sk-hidden--visually\" id=\"sk-estimator-id-1\" type=\"checkbox\" checked><label for=\"sk-estimator-id-1\" class=\"sk-toggleable__label sk-toggleable__label-arrow\">PCA</label><div class=\"sk-toggleable__content\"><pre>PCA(n_components=10)</pre></div></div></div></div></div>"
      ],
      "text/plain": [
       "PCA(n_components=10)"
      ]
     },
     "execution_count": 33,
     "metadata": {},
     "output_type": "execute_result"
    }
   ],
   "source": [
    "# Import the PCA function from sklearn\n",
    "from sklearn.decomposition import PCA\n",
    "\n",
    "# Select the number of principal components we will return\n",
    "num_components = 10\n",
    "\n",
    "# Create the PCA model\n",
    "pca = PCA(n_components=num_components)\n",
    "\n",
    "# Fit the model with the standardised data\n",
    "pca.fit(x_scaled)"
   ]
  },
  {
   "cell_type": "code",
   "execution_count": 34,
   "id": "2e48f44f",
   "metadata": {
    "scrolled": true
   },
   "outputs": [
    {
     "data": {
      "text/plain": [
       "array([0.43, 0.27, 0.09, 0.09, 0.05, 0.04, 0.03, 0.01, 0.01, 0.  ])"
      ]
     },
     "execution_count": 34,
     "metadata": {},
     "output_type": "execute_result"
    }
   ],
   "source": [
    "pca.explained_variance_ratio_.round(2)"
   ]
  },
  {
   "cell_type": "code",
   "execution_count": 35,
   "id": "8a59eef5",
   "metadata": {
    "scrolled": true
   },
   "outputs": [
    {
     "data": {
      "text/plain": [
       "array([0.43, 0.69, 0.79, 0.87, 0.92, 0.96, 0.98, 0.99, 1.  , 1.  ])"
      ]
     },
     "execution_count": 35,
     "metadata": {},
     "output_type": "execute_result"
    }
   ],
   "source": [
    "pca.explained_variance_ratio_.cumsum().round(2)"
   ]
  },
  {
   "cell_type": "code",
   "execution_count": 36,
   "id": "190ca9ce",
   "metadata": {},
   "outputs": [
    {
     "data": {
      "text/plain": [
       "Index(['Animal_Protein_Proportion', 'Protein_gr/cap/day',\n",
       "       'Food supply (kcal/capita/day)', 'poultrymeat_domestic_supply_1000t',\n",
       "       'poultrymeat_export_1000t', 'poultrymeat_import_1000t',\n",
       "       'poultrymeat_production_1000t', 'deltapop%', '2021_GDP_mil',\n",
       "       'GDP_delta_20-21'],\n",
       "      dtype='object')"
      ]
     },
     "execution_count": 36,
     "metadata": {},
     "output_type": "execute_result"
    }
   ],
   "source": [
    "data.columns"
   ]
  },
  {
   "cell_type": "code",
   "execution_count": 37,
   "id": "714f269c",
   "metadata": {
    "scrolled": true
   },
   "outputs": [
    {
     "data": {
      "image/png": "[encoded data removed]",
      "text/plain": [
       "<Figure size 640x480 with 1 Axes>"
      ]
     },
     "metadata": {},
     "output_type": "display_data"
    }
   ],
   "source": [
    "import matplotlib.pyplot as plt\n",
    "import numpy as np\n",
    "\n",
    "PC_values = np.arange(pca.n_components_) + 1\n",
    "plt.plot(PC_values, pca.explained_variance_ratio_, 'o-', linewidth=2, color='blue')\n",
    "plt.title('Scree Plot')\n",
    "plt.xlabel('Principal Component')\n",
    "plt.ylabel('Variance Explained')\n",
    "plt.show()"
   ]
  },
  {
   "cell_type": "code",
   "execution_count": 38,
   "id": "0d5d5bce",
   "metadata": {
    "scrolled": true
   },
   "outputs": [
    {
     "name": "stdout",
     "output_type": "stream",
     "text": [
      "[4.28309674e-01 2.66090886e-01 9.39882312e-02 8.64253525e-02\n",
      " 4.52513513e-02 3.60445738e-02 2.63764229e-02 1.17684125e-02\n",
      " 5.72819047e-03 1.69055762e-05]\n"
     ]
    }
   ],
   "source": [
    "print(pca.explained_variance_ratio_)"
   ]
  },
  {
   "cell_type": "markdown",
   "id": "969f0835",
   "metadata": {},
   "source": [
    "# Analyze the Results"
   ]
  },
  {
   "cell_type": "code",
   "execution_count": 39,
   "id": "9f1ea6af",
   "metadata": {},
   "outputs": [],
   "source": [
    "pc1 = pca.components_[0]\n",
    "pc2 = pca.components_[1]\n",
    "pc3 = pca.components_[2]\n",
    "pc4 = pca.components_[3]"
   ]
  },
  {
   "cell_type": "code",
   "execution_count": 40,
   "id": "cb924e22",
   "metadata": {},
   "outputs": [
    {
     "data": {
      "text/plain": [
       "Index(['Animal_Protein_Proportion', 'Protein_gr/cap/day',\n",
       "       'Food supply (kcal/capita/day)', 'poultrymeat_domestic_supply_1000t',\n",
       "       'poultrymeat_export_1000t', 'poultrymeat_import_1000t',\n",
       "       'poultrymeat_production_1000t', 'deltapop%', '2021_GDP_mil',\n",
       "       'GDP_delta_20-21'],\n",
       "      dtype='object')"
      ]
     },
     "execution_count": 40,
     "metadata": {},
     "output_type": "execute_result"
    }
   ],
   "source": [
    "data.columns"
   ]
  },
  {
   "cell_type": "code",
   "execution_count": 41,
   "id": "9b4bb46e",
   "metadata": {},
   "outputs": [
    {
     "data": {
      "text/plain": [
       "array([ 0.29,  0.33,  0.34,  0.38,  0.32,  0.26,  0.39, -0.26,  0.38,\n",
       "        0.12])"
      ]
     },
     "execution_count": 41,
     "metadata": {},
     "output_type": "execute_result"
    }
   ],
   "source": [
    "pc1.round(2)"
   ]
  },
  {
   "cell_type": "code",
   "execution_count": 42,
   "id": "e8896344",
   "metadata": {},
   "outputs": [
    {
     "data": {
      "text/plain": [
       "array([-0.4 , -0.38, -0.39,  0.35,  0.22,  0.11,  0.35,  0.34,  0.31,\n",
       "       -0.16])"
      ]
     },
     "execution_count": 42,
     "metadata": {},
     "output_type": "execute_result"
    }
   ],
   "source": [
    "pc2.round(2)"
   ]
  },
  {
   "cell_type": "code",
   "execution_count": 43,
   "id": "ab48405d",
   "metadata": {},
   "outputs": [
    {
     "data": {
      "text/plain": [
       "array([-0.14, -0.05, -0.07,  0.06, -0.32,  0.38, -0.03,  0.14,  0.02,\n",
       "        0.84])"
      ]
     },
     "execution_count": 43,
     "metadata": {},
     "output_type": "execute_result"
    }
   ],
   "source": [
    "pc3.round(2)"
   ]
  },
  {
   "cell_type": "code",
   "execution_count": 44,
   "id": "b707d75d",
   "metadata": {},
   "outputs": [
    {
     "data": {
      "text/plain": [
       "array([ 0.02, -0.01,  0.03, -0.01,  0.44, -0.73,  0.11,  0.17, -0.04,\n",
       "        0.48])"
      ]
     },
     "execution_count": 44,
     "metadata": {},
     "output_type": "execute_result"
    }
   ],
   "source": [
    "pc4.round(2)"
   ]
  },
  {
   "cell_type": "markdown",
   "id": "adc3d948",
   "metadata": {},
   "source": [
    "PC1 Animal Protein Proportion Scores is 0.29 for PC2 Animal Protein Proportion scores -0.4.  \n",
    "Clearly Animal Protein Proportion  is more influential on PC1 than PC2."
   ]
  },
  {
   "cell_type": "markdown",
   "id": "8c950a8f",
   "metadata": {},
   "source": [
    "## Correlation Circle\n",
    "####  Let us plot these component scores on a correlation circle (sometimes called a variables factor map) chart to make them easier to digest"
   ]
  },
  {
   "cell_type": "markdown",
   "id": "90271cba",
   "metadata": {},
   "source": [
    "#### Each plot is drawn on a factorial plane, that is the vector space made up of the intersection of two of the principal components.  First, we plot the component scores of PC1 against PC2:"
   ]
  },
  {
   "cell_type": "code",
   "execution_count": null,
   "id": "2c3be8f0",
   "metadata": {},
   "outputs": [],
   "source": []
  },
  {
   "cell_type": "code",
   "execution_count": 45,
   "id": "ee601275",
   "metadata": {},
   "outputs": [],
   "source": [
    "from scipy.cluster.hierarchy import dendrogram\n",
    "from pandas.plotting import parallel_coordinates\n",
    "import seaborn as sns"
   ]
  },
  {
   "cell_type": "code",
   "execution_count": 46,
   "id": "fc4c1139",
   "metadata": {},
   "outputs": [
    {
     "ename": "NameError",
     "evalue": "name 'linkage' is not defined",
     "output_type": "error",
     "traceback": [
      "\u001b[1;31m---------------------------------------------------------------------------\u001b[0m",
      "\u001b[1;31mNameError\u001b[0m                                 Traceback (most recent call last)",
      "Cell \u001b[1;32mIn[46], line 1\u001b[0m\n\u001b[1;32m----> 1\u001b[0m Z\u001b[38;5;241m=\u001b[39mlinkage(x_scaled,\u001b[38;5;124m\"\u001b[39m\u001b[38;5;124mward\u001b[39m\u001b[38;5;124m\"\u001b[39m)\n\u001b[0;32m      2\u001b[0m plt\u001b[38;5;241m.\u001b[39mfigure(figsize\u001b[38;5;241m=\u001b[39m(\u001b[38;5;241m15\u001b[39m,\u001b[38;5;241m10\u001b[39m))\n\u001b[0;32m      3\u001b[0m plt\u001b[38;5;241m.\u001b[39maxhline(\u001b[38;5;241m9\u001b[39m)\n",
      "\u001b[1;31mNameError\u001b[0m: name 'linkage' is not defined"
     ]
    }
   ],
   "source": [
    "Z=linkage(x_scaled,\"ward\")\n",
    "plt.figure(figsize=(15,10))\n",
    "plt.axhline(9)\n",
    "dendrogram(Z,labels=None)\n",
    "#plt.savefig('Dendro.png', bbox_inches='tight')\n",
    "plt.show()"
   ]
  },
  {
   "cell_type": "code",
   "execution_count": null,
   "id": "96d7ba34",
   "metadata": {},
   "outputs": [],
   "source": []
  },
  {
   "cell_type": "code",
   "execution_count": null,
   "id": "653bcccd",
   "metadata": {},
   "outputs": [],
   "source": []
  }
 ],
 "metadata": {
  "kernelspec": {
   "display_name": "Python 3 (ipykernel)",
   "language": "python",
   "name": "python3"
  },
  "language_info": {
   "codemirror_mode": {
    "name": "ipython",
    "version": 3
   },
   "file_extension": ".py",
   "mimetype": "text/x-python",
   "name": "python",
   "nbconvert_exporter": "python",
   "pygments_lexer": "ipython3",
   "version": "3.11.7"
  },
  "toc": {
   "base_numbering": 1,
   "nav_menu": {
    "height": "161.998px",
    "width": "709.99px"
   },
   "number_sections": true,
   "sideBar": true,
   "skip_h1_title": false,
   "title_cell": "Table of Contents",
   "title_sidebar": "Contents",
   "toc_cell": false,
   "toc_position": {},
   "toc_section_display": true,
   "toc_window_display": false
  }
 },
 "nbformat": 4,
 "nbformat_minor": 5
}
